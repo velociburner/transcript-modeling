{
  "nbformat": 4,
  "nbformat_minor": 0,
  "metadata": {
    "colab": {
      "provenance": []
    },
    "kernelspec": {
      "name": "python3",
      "display_name": "Python 3"
    },
    "language_info": {
      "name": "python"
    },
    "accelerator": "GPU",
    "gpuClass": "standard"
  },
  "cells": [
    {
      "cell_type": "markdown",
      "source": [
        "# Mount Drive"
      ],
      "metadata": {
        "id": "uQzLKHHvB7Gz"
      }
    },
    {
      "cell_type": "code",
      "execution_count": null,
      "metadata": {
        "id": "ZMaeekav7MhW"
      },
      "outputs": [],
      "source": [
        "from google.colab import drive\n",
        "drive.mount('/content/drive', force_remount=True)"
      ]
    },
    {
      "cell_type": "code",
      "source": [
        "# change path to the location of your project\n",
        "%cd /content/drive/MyDrive/NLP Systems: Dialogue processing project/colab\n",
        "!ls"
      ],
      "metadata": {
        "id": "-SfK_Rw_8ekL"
      },
      "execution_count": null,
      "outputs": []
    },
    {
      "cell_type": "markdown",
      "source": [
        "# Install packages"
      ],
      "metadata": {
        "id": "YFhK-S8xCEb5"
      }
    },
    {
      "cell_type": "code",
      "source": [
        "!pip install bertopic"
      ],
      "metadata": {
        "id": "j4pyBAnE85ey"
      },
      "execution_count": null,
      "outputs": []
    },
    {
      "cell_type": "markdown",
      "source": [
        "You might need this"
      ],
      "metadata": {
        "id": "H953KrJlWP87"
      }
    },
    {
      "cell_type": "code",
      "source": [
        "import locale\n",
        "def getpreferredencoding(do_setlocale = True):\n",
        "    return \"UTF-8\"\n",
        "locale.getpreferredencoding = getpreferredencoding\n",
        "print(locale.getpreferredencoding())"
      ],
      "metadata": {
        "id": "trL6ADwvWOcY"
      },
      "execution_count": null,
      "outputs": []
    },
    {
      "cell_type": "markdown",
      "source": [
        "# Code"
      ],
      "metadata": {
        "id": "54gwl9HLDGCC"
      }
    },
    {
      "cell_type": "markdown",
      "source": [
        "## Imports"
      ],
      "metadata": {
        "id": "Wu6Q7hhYB0dZ"
      }
    },
    {
      "cell_type": "code",
      "source": [
        "import os\n",
        "\n",
        "import numpy as np\n",
        "import spacy\n",
        "import torch\n",
        "\n",
        "# BERTopic components\n",
        "from bertopic import BERTopic\n",
        "from bertopic.vectorizers import ClassTfidfTransformer\n",
        "from umap import UMAP\n",
        "from hdbscan import HDBSCAN\n",
        "from sentence_transformers import SentenceTransformer\n",
        "\n",
        "# sklearn\n",
        "from sklearn.cluster import KMeans\n",
        "from sklearn.decomposition import PCA\n",
        "from sklearn.feature_extraction.text import CountVectorizer\n",
        "from sklearn.metrics import silhouette_score\n",
        "\n",
        "# HuggingFace\n",
        "from transformers import BertModel, BertTokenizer\n",
        "from transformers.pipelines import pipeline"
      ],
      "metadata": {
        "id": "CZr4t47K9EzB"
      },
      "execution_count": null,
      "outputs": []
    },
    {
      "cell_type": "markdown",
      "source": [
        "## Data"
      ],
      "metadata": {
        "id": "VbElvOHYDXIP"
      }
    },
    {
      "cell_type": "code",
      "source": [
        "def get_docs(prefix, dirs: list[str]):\n",
        "    docs = []\n",
        "    for dirname in dirs:\n",
        "      for filename in os.listdir(os.path.join(prefix, dirname)):\n",
        "          path = os.path.join(prefix, dirname, filename)\n",
        "          with open(path, \"r\", encoding=\"utf-8\", errors=\"replace\") as f:\n",
        "              for line in f:\n",
        "                  # add non-empty lines\n",
        "                  if line:\n",
        "                      docs.append(line.strip())\n",
        "    return docs"
      ],
      "metadata": {
        "id": "OqwSXc-AIzfc"
      },
      "execution_count": null,
      "outputs": []
    },
    {
      "cell_type": "code",
      "source": [
        "# change the prefix and dirs for whatever data folders you have\n",
        "prefix = \"data\"\n",
        "dirs = [\"news_podcasts\", \"ars_paradoxica\", \"plays (clean)\", \"tma\"]\n",
        "docs = get_docs(prefix, dirs)\n",
        "print(docs[:10])\n",
        "print(len(docs))"
      ],
      "metadata": {
        "id": "bQ77ynghCJEy"
      },
      "execution_count": null,
      "outputs": []
    },
    {
      "cell_type": "markdown",
      "source": [
        "## Model"
      ],
      "metadata": {
        "id": "G8uTpsJcDfcS"
      }
    },
    {
      "cell_type": "markdown",
      "source": [
        "### Embeddings"
      ],
      "metadata": {
        "id": "SD5HxDicmC1V"
      }
    },
    {
      "cell_type": "markdown",
      "source": [
        "Use this for sentence transformer model"
      ],
      "metadata": {
        "id": "16qEI5UnkUli"
      }
    },
    {
      "cell_type": "code",
      "source": [
        "# model_name = \"all-MiniLM-L6-v2\"\n",
        "model_name = \"all-MiniLM-L12-v2\"\n",
        "# model_name = \"all-mpnet-base-v2\"\n",
        "model = SentenceTransformer(model_name)"
      ],
      "metadata": {
        "id": "69wSSiiNiai8"
      },
      "execution_count": null,
      "outputs": []
    },
    {
      "cell_type": "markdown",
      "source": [
        "or this for a general HuggingFace model"
      ],
      "metadata": {
        "id": "EBumeLg7kY3-"
      }
    },
    {
      "cell_type": "code",
      "source": [
        "model_name = \"bert-base-uncased\"\n",
        "model = pipeline(\"feature-extraction\", model=model_name)\n",
        "# model = BertModel.from_pretrained(model_name)\n",
        "# tokenizer = BertTokenizer.from_pretrained(model_name)"
      ],
      "metadata": {
        "id": "RbR7__dxjsJQ"
      },
      "execution_count": null,
      "outputs": []
    },
    {
      "cell_type": "markdown",
      "source": [
        "or use a model from spaCy"
      ],
      "metadata": {
        "id": "PaaM7rPoVqzt"
      }
    },
    {
      "cell_type": "code",
      "source": [
        "!python -m spacy download en_core_web_md"
      ],
      "metadata": {
        "id": "Wysbop3hV07a"
      },
      "execution_count": null,
      "outputs": []
    },
    {
      "cell_type": "code",
      "source": [
        "model_name = \"en_core_web_md\"\n",
        "exclude = ['tagger', 'parser', 'ner', 'attribute_ruler', 'lemmatizer']\n",
        "model = spacy.load(model_name, exclude=exclude)"
      ],
      "metadata": {
        "id": "i98dvfjdVCio"
      },
      "execution_count": null,
      "outputs": []
    },
    {
      "cell_type": "markdown",
      "source": [
        "### Dimensionality reduction and clustering"
      ],
      "metadata": {
        "id": "Q_NBIjuNmHto"
      }
    },
    {
      "cell_type": "code",
      "source": [
        "n_neighbors = 15\n",
        "n_components = 5\n",
        "min_cluster_size = 15  # for HDBSCAN\n",
        "n_clusters = 100  # for K-Means clustering\n",
        "nr_topics = 100"
      ],
      "metadata": {
        "id": "r3CpkT_ooo8m"
      },
      "execution_count": null,
      "outputs": []
    },
    {
      "cell_type": "markdown",
      "source": [
        "Use this for UMAP and HDBSCAN"
      ],
      "metadata": {
        "id": "mkC2U_MoqwTh"
      }
    },
    {
      "cell_type": "code",
      "source": [
        "umap_model = UMAP(n_neighbors=n_neighbors, n_components=n_components, min_dist=0.0, metric='cosine')\n",
        "hdbscan_model = HDBSCAN(min_cluster_size=min_cluster_size, metric='euclidean', cluster_selection_method='eom', prediction_data=True)"
      ],
      "metadata": {
        "id": "6xUYHEQglsKo"
      },
      "execution_count": null,
      "outputs": []
    },
    {
      "cell_type": "markdown",
      "source": [
        "or this for PCA and K-Means clustering"
      ],
      "metadata": {
        "id": "Mh9zgW4Cqwxw"
      }
    },
    {
      "cell_type": "code",
      "source": [
        "umap_model = PCA(n_components=n_components)\n",
        "hdbscan_model = KMeans(n_clusters, n_init='auto')"
      ],
      "metadata": {
        "id": "mYusnQoRojtp"
      },
      "execution_count": null,
      "outputs": []
    },
    {
      "cell_type": "markdown",
      "source": [
        "### TF-IDF"
      ],
      "metadata": {
        "id": "QW9ZwORL0Xzf"
      }
    },
    {
      "cell_type": "code",
      "source": [
        "ctfidf_model = ClassTfidfTransformer(bm25_weighting=True, reduce_frequent_words=True)"
      ],
      "metadata": {
        "id": "AFUeU4xh0Wo4"
      },
      "execution_count": null,
      "outputs": []
    },
    {
      "cell_type": "markdown",
      "source": [
        "## Run model"
      ],
      "metadata": {
        "id": "EOpxdkzepZLD"
      }
    },
    {
      "cell_type": "markdown",
      "source": [
        "Embeddings only need to be generated once per model. Then, different topic models can be trained using those embeddings."
      ],
      "metadata": {
        "id": "etRkkHt6BGlH"
      }
    },
    {
      "cell_type": "code",
      "source": [
        "# if isinstance(model, BertModel):\n",
        "#     max_seq_len = model.config.max_position_embeddings\n",
        "#     tokenized_inputs = tokenizer(docs, padding=True, truncation=True, return_tensors=\"pt\")\n",
        "#     with torch.no_grad():\n",
        "#         outputs = model(**tokenized_inputs)\n",
        "#     embeddings = outputs.last_hidden_state\n",
        "if isinstance(model, spacy.language.Language):\n",
        "    embeddings = np.array([model(doc) for doc in docs])\n",
        "else:  # SentenceTransformer\n",
        "    embeddings = model.encode(docs, show_progress_bar=False)"
      ],
      "metadata": {
        "id": "Vlsoz2iS8mQ7"
      },
      "execution_count": null,
      "outputs": []
    },
    {
      "cell_type": "code",
      "source": [
        "topic_model = BERTopic(umap_model=umap_model, hdbscan_model=hdbscan_model, ctfidf_model=ctfidf_model)\n",
        "topics, probs = topic_model.fit_transform(docs, embeddings)"
      ],
      "metadata": {
        "id": "IFv_EXpXa578"
      },
      "execution_count": null,
      "outputs": []
    },
    {
      "cell_type": "code",
      "source": [
        "topic_model.get_topic_info()"
      ],
      "metadata": {
        "id": "2bljcZG6-9Ik"
      },
      "execution_count": null,
      "outputs": []
    },
    {
      "cell_type": "code",
      "source": [
        "topic_model.visualize_topics()"
      ],
      "metadata": {
        "id": "JEbSzGnx_FDX"
      },
      "execution_count": null,
      "outputs": []
    },
    {
      "cell_type": "markdown",
      "source": [
        "## Fine tune"
      ],
      "metadata": {
        "id": "Ev-kRmwnyIMo"
      }
    },
    {
      "cell_type": "code",
      "source": [
        "ngram_range = (1, 3)  # number of tokens per topic name\n",
        "min_df = 10  # minimum document frequency to include a term\n",
        "vectorizer_model = CountVectorizer(stop_words=\"english\", ngram_range=ngram_range, min_df=min_df)"
      ],
      "metadata": {
        "id": "uQ3cBQBCyzy_"
      },
      "execution_count": null,
      "outputs": []
    },
    {
      "cell_type": "code",
      "source": [
        "topic_model.update_topics(docs, vectorizer_model=vectorizer_model)"
      ],
      "metadata": {
        "id": "DTmhh5hs_XQt"
      },
      "execution_count": null,
      "outputs": []
    },
    {
      "cell_type": "code",
      "source": [
        "topic_model.get_topic_info()"
      ],
      "metadata": {
        "id": "ZvFSk9wa57s1"
      },
      "execution_count": null,
      "outputs": []
    },
    {
      "cell_type": "code",
      "source": [
        "topic_model.visualize_topics()"
      ],
      "metadata": {
        "id": "TwydHYaG6EXr"
      },
      "execution_count": null,
      "outputs": []
    },
    {
      "cell_type": "code",
      "source": [
        "topic_model.visualize_heatmap()"
      ],
      "metadata": {
        "id": "M7HqWpxuAuUj"
      },
      "execution_count": null,
      "outputs": []
    },
    {
      "cell_type": "markdown",
      "source": [
        "## Evaluation"
      ],
      "metadata": {
        "id": "wAF4uNDb-8H2"
      }
    },
    {
      "cell_type": "code",
      "source": [
        "indices = [idx for idx, topic in enumerate(topics) if topic != -1]\n",
        "labels = [topic for idx, topic in enumerate(topics) if topic != -1]\n",
        "umap_embeddings = topic_model.umap_model.transform(embeddings)\n",
        "X = umap_embeddings[np.array(indices)]"
      ],
      "metadata": {
        "id": "bChpBleduvrq"
      },
      "execution_count": null,
      "outputs": []
    },
    {
      "cell_type": "markdown",
      "source": [
        "### Silhouette score\n",
        "Silhouette score measures the similarity of data points within a cluster compared to other clusters. A score closer to +1 is better, and -1 is worse. The general threshold for a good score is +0.7."
      ],
      "metadata": {
        "id": "kzcurWkYyuc1"
      }
    },
    {
      "cell_type": "code",
      "source": [
        "silhouette_score(X, labels)"
      ],
      "metadata": {
        "id": "HO_8jqzL6Lpg"
      },
      "execution_count": null,
      "outputs": []
    },
    {
      "cell_type": "markdown",
      "source": [
        "## Save Best Model"
      ],
      "metadata": {
        "id": "jeaRl1Um0L_S"
      }
    },
    {
      "cell_type": "code",
      "source": [
        "# this does not save the embedding model, embeddings for new data should be\n",
        "# generated separately and passed into the model itself\n",
        "topic_model.save(\"best_model\", save_embedding_model=False)"
      ],
      "metadata": {
        "id": "y6j6AC0p0ONG"
      },
      "execution_count": null,
      "outputs": []
    },
    {
      "cell_type": "markdown",
      "source": [
        "## Results\n",
        "- all-MiniLM-L6-v2 + UMAP + HDBSCAN: 0.7371218\n",
        "- all-MiniLM-L6-v2 + PCA + k-Means: 0.14939763\n",
        "- all-MiniLM-L12-v2 + UMAP + HDBSCAN: **0.7524874**\n",
        "- all-MiniLM-L12-v2 + PCA + k-Means: 0.1497399\n",
        "- all-mpnet-base-v2 + UMAP + HDBSCAN: 0.71941936\n",
        "- all-mpnet-base-v2 + PCA + k-Means: 0.15116245\n",
        "- en_core_web_md + UMAP + HDBSCAN: 0.51696175\n",
        "- en_core_web_md + PCA + k-Means: 0.15017074"
      ],
      "metadata": {
        "id": "rmHjx9VWzRLQ"
      }
    }
  ]
}